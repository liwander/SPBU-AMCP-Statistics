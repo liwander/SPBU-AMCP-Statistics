{
 "cells": [
  {
   "cell_type": "code",
   "execution_count": 139,
   "metadata": {},
   "outputs": [],
   "source": [
    "import pandas as pd\n",
    "import numpy as np\n",
    "import matplotlib.pyplot as plt\n",
    "import scipy.stats as stat\n",
    "variant_sheet_name = 'Вар4'\n",
    "source_data_filename = 'Лабораторная работа 2. Варианты часть 1  (Построение доверительных интервалов).doc.xls'\n",
    "data_sheet = pd.read_excel(source_data_filename, sheet_name=variant_sheet_name, header=0)\n",
    "# data_sheet\n",
    "alpha = 1 - 0.95"
   ]
  },
  {
   "cell_type": "markdown",
   "metadata": {},
   "source": [
    "### CI for the mean. Variance is known"
   ]
  },
  {
   "cell_type": "code",
   "execution_count": 140,
   "metadata": {},
   "outputs": [
    {
     "data": {
      "text/plain": [
       "'дисперсия =16'"
      ]
     },
     "metadata": {},
     "output_type": "display_data"
    },
    {
     "data": {
      "text/plain": [
       "[20.450011753268488, 29.319796229106426]"
      ]
     },
     "metadata": {},
     "output_type": "display_data"
    }
   ],
   "source": [
    "df = data_sheet[['X1']]\n",
    "display(df['X1'].T.pop(0))\n",
    "df = df.drop(0)\n",
    "# display(df)\n",
    "\n",
    "sample_size = len(df)\n",
    "population_variance = 16\n",
    "\n",
    "sample_mean = np.mean(df['X1'])\n",
    "standard_error_of_mean = population_variance / np.sqrt(sample_size)\n",
    "quantile = stat.norm.ppf(1 - alpha/2)\n",
    "\n",
    "conf_ival = [sample_mean - standard_error_of_mean * quantile, sample_mean + standard_error_of_mean * quantile] \n",
    "display(conf_ival)"
   ]
  },
  {
   "cell_type": "markdown",
   "metadata": {},
   "source": [
    "### CI for the mean. Variance is unknown"
   ]
  },
  {
   "cell_type": "code",
   "execution_count": 141,
   "metadata": {},
   "outputs": [
    {
     "data": {
      "text/plain": [
       "'дисперсия неизвестна'"
      ]
     },
     "metadata": {},
     "output_type": "display_data"
    },
    {
     "data": {
      "text/plain": [
       "[22.4257120773124, 25.86570762890764]"
      ]
     },
     "metadata": {},
     "output_type": "display_data"
    }
   ],
   "source": [
    "df = data_sheet[['X2']]\n",
    "display(df['X2'].T.pop(0))\n",
    "df = df.drop(0).reset_index(drop=True, inplace=False)\n",
    "# display(df)\n",
    "\n",
    "sample_size = len(df)\n",
    "\n",
    "sample_standard_deviation = np.sqrt(np.var(df['X2'])) \n",
    "sample_mean = np.mean(df['X2'])\n",
    "\n",
    "t_dist_quantile = stat.t.ppf(1 - alpha / 2, df=sample_size - 1)\n",
    "\n",
    "ci = [sample_mean - sample_standard_deviation * t_dist_quantile / np.sqrt(sample_size),\n",
    "       sample_mean + sample_standard_deviation * t_dist_quantile / np.sqrt(sample_size)]\n",
    "display(ci)"
   ]
  },
  {
   "cell_type": "markdown",
   "metadata": {},
   "source": [
    "### CI for the variance. Population mean is known"
   ]
  },
  {
   "cell_type": "code",
   "execution_count": 142,
   "metadata": {},
   "outputs": [
    {
     "data": {
      "text/plain": [
       "'мат.ожидание=10'"
      ]
     },
     "metadata": {},
     "output_type": "display_data"
    },
    {
     "data": {
      "text/plain": [
       "[3.770982703956292, 8.323432134287382]"
      ]
     },
     "execution_count": 142,
     "metadata": {},
     "output_type": "execute_result"
    }
   ],
   "source": [
    "df = data_sheet[['X3']]\n",
    "display(df['X3'].T.pop(0))\n",
    "df = df.drop(0).reset_index(drop=True, inplace=False)\n",
    "# display(df)\n",
    "\n",
    "sample_size = len(df)\n",
    "population_mean = 10\n",
    "\n",
    "second_moment = stat.moment(a=list(df['X3']), moment=2, center=population_mean)\n",
    "\n",
    "chisq_l = stat.chi2.ppf(1 - alpha / 2, sample_size)\n",
    "chisq_r = stat.chi2.ppf(alpha / 2, sample_size)\n",
    "\n",
    "ci = [sample_size * second_moment / chisq_l, sample_size * second_moment / chisq_r]\n",
    "ci"
   ]
  },
  {
   "cell_type": "markdown",
   "metadata": {},
   "source": [
    "### CI for the variance. Population mean is unknown"
   ]
  },
  {
   "cell_type": "code",
   "execution_count": 143,
   "metadata": {},
   "outputs": [
    {
     "data": {
      "text/plain": [
       "'дисперсия неизвестна'"
      ]
     },
     "metadata": {},
     "output_type": "display_data"
    },
    {
     "data": {
      "text/plain": [
       "[25.558629522932254, 56.87825713860025]"
      ]
     },
     "execution_count": 143,
     "metadata": {},
     "output_type": "execute_result"
    }
   ],
   "source": [
    "df = data_sheet[['X2']]\n",
    "display(df['X2'].T.pop(0))\n",
    "df = df.drop(0).reset_index(drop=True, inplace=False)\n",
    "# display(df)\n",
    "\n",
    "sample_size = len(df)\n",
    "\n",
    "sample_variance = np.var(df['X2']) \n",
    "sample_mean = np.mean(df['X2'])\n",
    "\n",
    "\n",
    "chisq_l = stat.chi2.ppf(1 - alpha / 2, sample_size - 1)\n",
    "chisq_r = stat.chi2.ppf(alpha / 2, sample_size - 1)\n",
    "\n",
    "ci = [(sample_size - 1) * sample_variance / chisq_l, (sample_size - 1) * sample_variance / chisq_r]\n",
    "ci"
   ]
  }
 ],
 "metadata": {
  "kernelspec": {
   "display_name": "Python 3",
   "language": "python",
   "name": "python3"
  },
  "language_info": {
   "codemirror_mode": {
    "name": "ipython",
    "version": 3
   },
   "file_extension": ".py",
   "mimetype": "text/x-python",
   "name": "python",
   "nbconvert_exporter": "python",
   "pygments_lexer": "ipython3",
   "version": "3.10.12"
  }
 },
 "nbformat": 4,
 "nbformat_minor": 2
}
